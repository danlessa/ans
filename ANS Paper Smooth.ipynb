{
 "cells": [
  {
   "cell_type": "code",
   "execution_count": null,
   "metadata": {},
   "outputs": [],
   "source": [
    "import math\n",
    "import pandas as pd\n",
    "from tabulate import tabulate\n",
    "import matplotlib.pyplot as plt\n",
    "import seaborn as sns\n",
    "import numpy as np\n",
    "\n",
    "%matplotlib inline\n",
    "from tabulate import tabulate\n",
    "\n",
    "from __future__ import print_function\n",
    "from ipywidgets import interact, interactive, fixed, interact_manual\n",
    "import ipywidgets as widgets\n",
    "from IPython.display import clear_output\n",
    "\n",
    "# The following imports NEED to be in the exact order\n",
    "from cadCAD.engine import ExecutionMode, ExecutionContext, Executor\n",
    "from validation.tokeneconomy.baseline import economyconfig\n",
    "from validation.tokeneconomy.baseline.economyconfig import experiment\n",
    "\n",
    "from validation.plot_functions import *\n",
    "\n",
    "exec_mode = ExecutionMode()"
   ]
  },
  {
   "cell_type": "code",
   "execution_count": null,
   "metadata": {},
   "outputs": [],
   "source": [
    "configs = experiment.configs"
   ]
  },
  {
   "cell_type": "code",
   "execution_count": null,
   "metadata": {
    "scrolled": false
   },
   "outputs": [],
   "source": [
    "single_proc_ctx = ExecutionContext(context=exec_mode.single_proc)\n",
    "run1 = Executor(exec_context=single_proc_ctx, configs=[configs[0]])\n",
    "run1_raw_result, raw_tensor_field = run1.execute()\n",
    "raw_df = pd.DataFrame(run1_raw_result)\n",
    "df = raw_df[raw_df['substep']==5]"
   ]
  },
  {
   "cell_type": "code",
   "execution_count": null,
   "metadata": {
    "collapsed": true
   },
   "outputs": [],
   "source": [
    "pd.options.mode.chained_assignment = None\n",
    "df['lambda_S_factor'] = df['R'] / df['R_prev']\n",
    "df['lambda_D_factor'] = df['P_prev'] / df['P']\n",
    "\n",
    "# factors going into V\n",
    "# V(t) ~ (P(t) * Q(t) + B(t)) / (C(t) * Q(t))\n",
    "df['CQ'] = df['C'] * df['Q']\n",
    "df['PQ_K'] = df['P'] * df['Q']\n",
    "df['PQplusB_K'] = df['P'] * df['Q'] + df['B']\n",
    "df['PQ_FIAT'] = df['P'] * df['Q'] * df['K']\n",
    "df['PQplusB_FIAT'] = (df['P'] * df['Q'] + df['B']) * df['K']\n",
    "df['PoverC'] = df['P'] / df['C']\n",
    "df['BoverCQ'] = df['B'] / df['CQ']\n",
    "df['P_FIAT'] = df['P'] * df['K']\n",
    "df['V_inverse'] = 1.0 / df['V']\n",
    "df['log_K'] = np.log(df['K'])\n",
    "df['log_P_FIAT'] = np.log(df['P_FIAT'])\n",
    "# df['delta_KPI'] = df['KPI'] - df['KPI_prev']\n",
    "df['PprevOverP'] = df['P_prev'] / df['P']\n",
    "df['QoverQprev'] = df['Q'] / df['Q_prev']\n",
    "df['QoverQ0'] = df['Q'] / df['Q'].iloc[0]\n",
    "\n",
    "# supply - demand\n",
    "df['SdiffD'] = df['S'] - df['D']\n",
    "df['DdiffS'] = df['D'] - df['S']"
   ]
  },
  {
   "cell_type": "code",
   "execution_count": null,
   "metadata": {
    "collapsed": true
   },
   "outputs": [],
   "source": [
    "aggregate_dimension = 'timestep'\n",
    "\n",
    "mean_df = df.groupby(aggregate_dimension).mean().reset_index()\n",
    "median_df = df.groupby(aggregate_dimension).median().reset_index()\n",
    "std_df = df.groupby(aggregate_dimension).std().reset_index()\n",
    "min_df = df.groupby(aggregate_dimension).min().reset_index()\n",
    "df.rename(columns={'weeks': \"timestep\"}, inplace=True)"
   ]
  },
  {
   "cell_type": "markdown",
   "metadata": {},
   "source": [
    "### Simulation - simple exponential decay block rewards"
   ]
  },
  {
   "cell_type": "code",
   "execution_count": null,
   "metadata": {
    "scrolled": false
   },
   "outputs": [],
   "source": [
    "dist_plot(df, 'timestep', 'B')"
   ]
  },
  {
   "cell_type": "markdown",
   "metadata": {},
   "source": [
    "#### K - secondary market price of token"
   ]
  },
  {
   "cell_type": "code",
   "execution_count": null,
   "metadata": {
    "scrolled": false
   },
   "outputs": [],
   "source": [
    "plt.figure()\n",
    "dist_plot(df, 'timestep', 'log_K', suppMin=True)\n",
    "title_text = 'Monte Carlo distribution over token prices (log scale)'\n",
    "plt.title(title_text)\n",
    "plt.show()"
   ]
  },
  {
   "cell_type": "code",
   "execution_count": null,
   "metadata": {
    "scrolled": true
   },
   "outputs": [],
   "source": [
    "first_five_plot(df, 'log_K')"
   ]
  },
  {
   "cell_type": "markdown",
   "metadata": {},
   "source": [
    "#### Q - service transacted on the platform"
   ]
  },
  {
   "cell_type": "code",
   "execution_count": null,
   "metadata": {
    "scrolled": false
   },
   "outputs": [],
   "source": [
    "terminal_Q = df.groupby('run').last().reset_index()['Q']\n",
    "initial_Q = df.groupby('run').first().reset_index()['Q']\n",
    "normalized_Q = terminal_Q / initial_Q\n",
    "plt.figure(figsize=(10, 6))\n",
    "normalized_Q.hist(normed=True)\n",
    "sns.kdeplot(normalized_Q)\n",
    "plt.xlabel('Aggregated Growth in Q')\n",
    "title_text = 'Monte Carlo distribution over aggregated growth in Q'\n",
    "plt.title(title_text)\n",
    "plt.show()"
   ]
  }
 ],
 "metadata": {
  "kernelspec": {
   "display_name": "Python 3",
   "language": "python",
   "name": "python3"
  },
  "language_info": {
   "codemirror_mode": {
    "name": "ipython",
    "version": 3
   },
   "file_extension": ".py",
   "mimetype": "text/x-python",
   "name": "python",
   "nbconvert_exporter": "python",
   "pygments_lexer": "ipython3",
   "version": "3.10.13"
  }
 },
 "nbformat": 4,
 "nbformat_minor": 1
}
